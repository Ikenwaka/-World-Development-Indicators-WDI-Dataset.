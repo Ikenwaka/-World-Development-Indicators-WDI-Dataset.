{
 "cells": [
  {
   "cell_type": "markdown",
   "metadata": {},
   "source": [
    "<br><p style=\"font-family: Arial; font-size:2.75em;color:blue; font-style:bold\">Life Expectancy, Income and Sources <br> <br> of Environmental Degradation in Nigeria</p><br><br>\n"
   ]
  },
  {
   "cell_type": "markdown",
   "metadata": {},
   "source": [
    "#  Life Expectancy, Income and Sources of Environmental Degradation in Nigeria\n",
    "## Section 1: Exploring the World Development Indicators (WDI) Dataset\n",
    "### First - import the relevant Python libraries \n",
    "\n",
    "*Note: Before answering the above question through analysis, it is important to acquire , explore and analyze the data so as to come up with verifiable findings. Thus, Section 1 acquires and prepares the data while section 2  analyzes the data.*\n"
   ]
  },
  {
   "cell_type": "code",
   "execution_count": 1,
   "metadata": {},
   "outputs": [],
   "source": [
    "import pandas as pd\n",
    "import numpy as np\n",
    "import random\n",
    "import matplotlib.pyplot as plt"
   ]
  },
  {
   "cell_type": "code",
   "execution_count": 2,
   "metadata": {},
   "outputs": [
    {
     "data": {
      "text/plain": [
       "(5656458, 6)"
      ]
     },
     "execution_count": 2,
     "metadata": {},
     "output_type": "execute_result"
    }
   ],
   "source": [
    "# Data Injestion \n",
    "\n",
    "dataset = pd.read_csv('./Worldbank_data/Indicators.csv')\n",
    "dataset.shape"
   ]
  },
  {
   "cell_type": "markdown",
   "metadata": {},
   "source": [
    "Large dataset with 6 rows - what information can be derived from this dataset?"
   ]
  },
  {
   "cell_type": "code",
   "execution_count": 3,
   "metadata": {},
   "outputs": [
    {
     "data": {
      "text/html": [
       "<div>\n",
       "<style scoped>\n",
       "    .dataframe tbody tr th:only-of-type {\n",
       "        vertical-align: middle;\n",
       "    }\n",
       "\n",
       "    .dataframe tbody tr th {\n",
       "        vertical-align: top;\n",
       "    }\n",
       "\n",
       "    .dataframe thead th {\n",
       "        text-align: right;\n",
       "    }\n",
       "</style>\n",
       "<table border=\"1\" class=\"dataframe\">\n",
       "  <thead>\n",
       "    <tr style=\"text-align: right;\">\n",
       "      <th></th>\n",
       "      <th>CountryName</th>\n",
       "      <th>CountryCode</th>\n",
       "      <th>IndicatorName</th>\n",
       "      <th>IndicatorCode</th>\n",
       "      <th>Year</th>\n",
       "      <th>Value</th>\n",
       "    </tr>\n",
       "  </thead>\n",
       "  <tbody>\n",
       "    <tr>\n",
       "      <th>0</th>\n",
       "      <td>Arab World</td>\n",
       "      <td>ARB</td>\n",
       "      <td>Adolescent fertility rate (births per 1,000 wo...</td>\n",
       "      <td>SP.ADO.TFRT</td>\n",
       "      <td>1960</td>\n",
       "      <td>1.335609e+02</td>\n",
       "    </tr>\n",
       "    <tr>\n",
       "      <th>1</th>\n",
       "      <td>Arab World</td>\n",
       "      <td>ARB</td>\n",
       "      <td>Age dependency ratio (% of working-age populat...</td>\n",
       "      <td>SP.POP.DPND</td>\n",
       "      <td>1960</td>\n",
       "      <td>8.779760e+01</td>\n",
       "    </tr>\n",
       "    <tr>\n",
       "      <th>2</th>\n",
       "      <td>Arab World</td>\n",
       "      <td>ARB</td>\n",
       "      <td>Age dependency ratio, old (% of working-age po...</td>\n",
       "      <td>SP.POP.DPND.OL</td>\n",
       "      <td>1960</td>\n",
       "      <td>6.634579e+00</td>\n",
       "    </tr>\n",
       "    <tr>\n",
       "      <th>3</th>\n",
       "      <td>Arab World</td>\n",
       "      <td>ARB</td>\n",
       "      <td>Age dependency ratio, young (% of working-age ...</td>\n",
       "      <td>SP.POP.DPND.YG</td>\n",
       "      <td>1960</td>\n",
       "      <td>8.102333e+01</td>\n",
       "    </tr>\n",
       "    <tr>\n",
       "      <th>4</th>\n",
       "      <td>Arab World</td>\n",
       "      <td>ARB</td>\n",
       "      <td>Arms exports (SIPRI trend indicator values)</td>\n",
       "      <td>MS.MIL.XPRT.KD</td>\n",
       "      <td>1960</td>\n",
       "      <td>3.000000e+06</td>\n",
       "    </tr>\n",
       "    <tr>\n",
       "      <th>5</th>\n",
       "      <td>Arab World</td>\n",
       "      <td>ARB</td>\n",
       "      <td>Arms imports (SIPRI trend indicator values)</td>\n",
       "      <td>MS.MIL.MPRT.KD</td>\n",
       "      <td>1960</td>\n",
       "      <td>5.380000e+08</td>\n",
       "    </tr>\n",
       "    <tr>\n",
       "      <th>6</th>\n",
       "      <td>Arab World</td>\n",
       "      <td>ARB</td>\n",
       "      <td>Birth rate, crude (per 1,000 people)</td>\n",
       "      <td>SP.DYN.CBRT.IN</td>\n",
       "      <td>1960</td>\n",
       "      <td>4.769789e+01</td>\n",
       "    </tr>\n",
       "    <tr>\n",
       "      <th>7</th>\n",
       "      <td>Arab World</td>\n",
       "      <td>ARB</td>\n",
       "      <td>CO2 emissions (kt)</td>\n",
       "      <td>EN.ATM.CO2E.KT</td>\n",
       "      <td>1960</td>\n",
       "      <td>5.956399e+04</td>\n",
       "    </tr>\n",
       "    <tr>\n",
       "      <th>8</th>\n",
       "      <td>Arab World</td>\n",
       "      <td>ARB</td>\n",
       "      <td>CO2 emissions (metric tons per capita)</td>\n",
       "      <td>EN.ATM.CO2E.PC</td>\n",
       "      <td>1960</td>\n",
       "      <td>6.439635e-01</td>\n",
       "    </tr>\n",
       "    <tr>\n",
       "      <th>9</th>\n",
       "      <td>Arab World</td>\n",
       "      <td>ARB</td>\n",
       "      <td>CO2 emissions from gaseous fuel consumption (%...</td>\n",
       "      <td>EN.ATM.CO2E.GF.ZS</td>\n",
       "      <td>1960</td>\n",
       "      <td>5.041292e+00</td>\n",
       "    </tr>\n",
       "    <tr>\n",
       "      <th>10</th>\n",
       "      <td>Arab World</td>\n",
       "      <td>ARB</td>\n",
       "      <td>CO2 emissions from liquid fuel consumption (% ...</td>\n",
       "      <td>EN.ATM.CO2E.LF.ZS</td>\n",
       "      <td>1960</td>\n",
       "      <td>8.485147e+01</td>\n",
       "    </tr>\n",
       "    <tr>\n",
       "      <th>11</th>\n",
       "      <td>Arab World</td>\n",
       "      <td>ARB</td>\n",
       "      <td>CO2 emissions from liquid fuel consumption (kt)</td>\n",
       "      <td>EN.ATM.CO2E.LF.KT</td>\n",
       "      <td>1960</td>\n",
       "      <td>4.954171e+04</td>\n",
       "    </tr>\n",
       "    <tr>\n",
       "      <th>12</th>\n",
       "      <td>Arab World</td>\n",
       "      <td>ARB</td>\n",
       "      <td>CO2 emissions from solid fuel consumption (% o...</td>\n",
       "      <td>EN.ATM.CO2E.SF.ZS</td>\n",
       "      <td>1960</td>\n",
       "      <td>4.726981e+00</td>\n",
       "    </tr>\n",
       "    <tr>\n",
       "      <th>13</th>\n",
       "      <td>Arab World</td>\n",
       "      <td>ARB</td>\n",
       "      <td>Death rate, crude (per 1,000 people)</td>\n",
       "      <td>SP.DYN.CDRT.IN</td>\n",
       "      <td>1960</td>\n",
       "      <td>1.975445e+01</td>\n",
       "    </tr>\n",
       "    <tr>\n",
       "      <th>14</th>\n",
       "      <td>Arab World</td>\n",
       "      <td>ARB</td>\n",
       "      <td>Fertility rate, total (births per woman)</td>\n",
       "      <td>SP.DYN.TFRT.IN</td>\n",
       "      <td>1960</td>\n",
       "      <td>6.924027e+00</td>\n",
       "    </tr>\n",
       "    <tr>\n",
       "      <th>15</th>\n",
       "      <td>Arab World</td>\n",
       "      <td>ARB</td>\n",
       "      <td>Fixed telephone subscriptions</td>\n",
       "      <td>IT.MLT.MAIN</td>\n",
       "      <td>1960</td>\n",
       "      <td>4.068330e+05</td>\n",
       "    </tr>\n",
       "    <tr>\n",
       "      <th>16</th>\n",
       "      <td>Arab World</td>\n",
       "      <td>ARB</td>\n",
       "      <td>Fixed telephone subscriptions (per 100 people)</td>\n",
       "      <td>IT.MLT.MAIN.P2</td>\n",
       "      <td>1960</td>\n",
       "      <td>6.167006e-01</td>\n",
       "    </tr>\n",
       "    <tr>\n",
       "      <th>17</th>\n",
       "      <td>Arab World</td>\n",
       "      <td>ARB</td>\n",
       "      <td>Hospital beds (per 1,000 people)</td>\n",
       "      <td>SH.MED.BEDS.ZS</td>\n",
       "      <td>1960</td>\n",
       "      <td>1.929622e+00</td>\n",
       "    </tr>\n",
       "    <tr>\n",
       "      <th>18</th>\n",
       "      <td>Arab World</td>\n",
       "      <td>ARB</td>\n",
       "      <td>International migrant stock (% of population)</td>\n",
       "      <td>SM.POP.TOTL.ZS</td>\n",
       "      <td>1960</td>\n",
       "      <td>2.990637e+00</td>\n",
       "    </tr>\n",
       "    <tr>\n",
       "      <th>19</th>\n",
       "      <td>Arab World</td>\n",
       "      <td>ARB</td>\n",
       "      <td>International migrant stock, total</td>\n",
       "      <td>SM.POP.TOTL</td>\n",
       "      <td>1960</td>\n",
       "      <td>3.324685e+06</td>\n",
       "    </tr>\n",
       "    <tr>\n",
       "      <th>20</th>\n",
       "      <td>Arab World</td>\n",
       "      <td>ARB</td>\n",
       "      <td>Life expectancy at birth, female (years)</td>\n",
       "      <td>SP.DYN.LE00.FE.IN</td>\n",
       "      <td>1960</td>\n",
       "      <td>4.788325e+01</td>\n",
       "    </tr>\n",
       "    <tr>\n",
       "      <th>21</th>\n",
       "      <td>Arab World</td>\n",
       "      <td>ARB</td>\n",
       "      <td>Life expectancy at birth, male (years)</td>\n",
       "      <td>SP.DYN.LE00.MA.IN</td>\n",
       "      <td>1960</td>\n",
       "      <td>4.586295e+01</td>\n",
       "    </tr>\n",
       "    <tr>\n",
       "      <th>22</th>\n",
       "      <td>Arab World</td>\n",
       "      <td>ARB</td>\n",
       "      <td>Life expectancy at birth, total (years)</td>\n",
       "      <td>SP.DYN.LE00.IN</td>\n",
       "      <td>1960</td>\n",
       "      <td>4.684706e+01</td>\n",
       "    </tr>\n",
       "    <tr>\n",
       "      <th>23</th>\n",
       "      <td>Arab World</td>\n",
       "      <td>ARB</td>\n",
       "      <td>Merchandise exports (current US$)</td>\n",
       "      <td>TX.VAL.MRCH.CD.WT</td>\n",
       "      <td>1960</td>\n",
       "      <td>4.645919e+09</td>\n",
       "    </tr>\n",
       "    <tr>\n",
       "      <th>24</th>\n",
       "      <td>Arab World</td>\n",
       "      <td>ARB</td>\n",
       "      <td>Merchandise exports by the reporting economy (...</td>\n",
       "      <td>TX.VAL.MRCH.WL.CD</td>\n",
       "      <td>1960</td>\n",
       "      <td>2.468800e+09</td>\n",
       "    </tr>\n",
       "    <tr>\n",
       "      <th>25</th>\n",
       "      <td>Arab World</td>\n",
       "      <td>ARB</td>\n",
       "      <td>Merchandise exports by the reporting economy, ...</td>\n",
       "      <td>TX.VAL.MRCH.RS.ZS</td>\n",
       "      <td>1960</td>\n",
       "      <td>1.646954e+01</td>\n",
       "    </tr>\n",
       "    <tr>\n",
       "      <th>26</th>\n",
       "      <td>Arab World</td>\n",
       "      <td>ARB</td>\n",
       "      <td>Merchandise exports to developing economies in...</td>\n",
       "      <td>TX.VAL.MRCH.R1.ZS</td>\n",
       "      <td>1960</td>\n",
       "      <td>2.260207e+00</td>\n",
       "    </tr>\n",
       "    <tr>\n",
       "      <th>27</th>\n",
       "      <td>Arab World</td>\n",
       "      <td>ARB</td>\n",
       "      <td>Merchandise exports to developing economies in...</td>\n",
       "      <td>TX.VAL.MRCH.R3.ZS</td>\n",
       "      <td>1960</td>\n",
       "      <td>4.496111e-01</td>\n",
       "    </tr>\n",
       "    <tr>\n",
       "      <th>28</th>\n",
       "      <td>Arab World</td>\n",
       "      <td>ARB</td>\n",
       "      <td>Merchandise exports to developing economies in...</td>\n",
       "      <td>TX.VAL.MRCH.R4.ZS</td>\n",
       "      <td>1960</td>\n",
       "      <td>6.379618e+00</td>\n",
       "    </tr>\n",
       "    <tr>\n",
       "      <th>29</th>\n",
       "      <td>Arab World</td>\n",
       "      <td>ARB</td>\n",
       "      <td>Merchandise exports to developing economies in...</td>\n",
       "      <td>TX.VAL.MRCH.R5.ZS</td>\n",
       "      <td>1960</td>\n",
       "      <td>2.790830e+00</td>\n",
       "    </tr>\n",
       "  </tbody>\n",
       "</table>\n",
       "</div>"
      ],
      "text/plain": [
       "   CountryName CountryCode                                      IndicatorName  \\\n",
       "0   Arab World         ARB  Adolescent fertility rate (births per 1,000 wo...   \n",
       "1   Arab World         ARB  Age dependency ratio (% of working-age populat...   \n",
       "2   Arab World         ARB  Age dependency ratio, old (% of working-age po...   \n",
       "3   Arab World         ARB  Age dependency ratio, young (% of working-age ...   \n",
       "4   Arab World         ARB        Arms exports (SIPRI trend indicator values)   \n",
       "5   Arab World         ARB        Arms imports (SIPRI trend indicator values)   \n",
       "6   Arab World         ARB               Birth rate, crude (per 1,000 people)   \n",
       "7   Arab World         ARB                                 CO2 emissions (kt)   \n",
       "8   Arab World         ARB             CO2 emissions (metric tons per capita)   \n",
       "9   Arab World         ARB  CO2 emissions from gaseous fuel consumption (%...   \n",
       "10  Arab World         ARB  CO2 emissions from liquid fuel consumption (% ...   \n",
       "11  Arab World         ARB    CO2 emissions from liquid fuel consumption (kt)   \n",
       "12  Arab World         ARB  CO2 emissions from solid fuel consumption (% o...   \n",
       "13  Arab World         ARB               Death rate, crude (per 1,000 people)   \n",
       "14  Arab World         ARB           Fertility rate, total (births per woman)   \n",
       "15  Arab World         ARB                      Fixed telephone subscriptions   \n",
       "16  Arab World         ARB     Fixed telephone subscriptions (per 100 people)   \n",
       "17  Arab World         ARB                   Hospital beds (per 1,000 people)   \n",
       "18  Arab World         ARB      International migrant stock (% of population)   \n",
       "19  Arab World         ARB                 International migrant stock, total   \n",
       "20  Arab World         ARB           Life expectancy at birth, female (years)   \n",
       "21  Arab World         ARB             Life expectancy at birth, male (years)   \n",
       "22  Arab World         ARB            Life expectancy at birth, total (years)   \n",
       "23  Arab World         ARB                  Merchandise exports (current US$)   \n",
       "24  Arab World         ARB  Merchandise exports by the reporting economy (...   \n",
       "25  Arab World         ARB  Merchandise exports by the reporting economy, ...   \n",
       "26  Arab World         ARB  Merchandise exports to developing economies in...   \n",
       "27  Arab World         ARB  Merchandise exports to developing economies in...   \n",
       "28  Arab World         ARB  Merchandise exports to developing economies in...   \n",
       "29  Arab World         ARB  Merchandise exports to developing economies in...   \n",
       "\n",
       "        IndicatorCode  Year         Value  \n",
       "0         SP.ADO.TFRT  1960  1.335609e+02  \n",
       "1         SP.POP.DPND  1960  8.779760e+01  \n",
       "2      SP.POP.DPND.OL  1960  6.634579e+00  \n",
       "3      SP.POP.DPND.YG  1960  8.102333e+01  \n",
       "4      MS.MIL.XPRT.KD  1960  3.000000e+06  \n",
       "5      MS.MIL.MPRT.KD  1960  5.380000e+08  \n",
       "6      SP.DYN.CBRT.IN  1960  4.769789e+01  \n",
       "7      EN.ATM.CO2E.KT  1960  5.956399e+04  \n",
       "8      EN.ATM.CO2E.PC  1960  6.439635e-01  \n",
       "9   EN.ATM.CO2E.GF.ZS  1960  5.041292e+00  \n",
       "10  EN.ATM.CO2E.LF.ZS  1960  8.485147e+01  \n",
       "11  EN.ATM.CO2E.LF.KT  1960  4.954171e+04  \n",
       "12  EN.ATM.CO2E.SF.ZS  1960  4.726981e+00  \n",
       "13     SP.DYN.CDRT.IN  1960  1.975445e+01  \n",
       "14     SP.DYN.TFRT.IN  1960  6.924027e+00  \n",
       "15        IT.MLT.MAIN  1960  4.068330e+05  \n",
       "16     IT.MLT.MAIN.P2  1960  6.167006e-01  \n",
       "17     SH.MED.BEDS.ZS  1960  1.929622e+00  \n",
       "18     SM.POP.TOTL.ZS  1960  2.990637e+00  \n",
       "19        SM.POP.TOTL  1960  3.324685e+06  \n",
       "20  SP.DYN.LE00.FE.IN  1960  4.788325e+01  \n",
       "21  SP.DYN.LE00.MA.IN  1960  4.586295e+01  \n",
       "22     SP.DYN.LE00.IN  1960  4.684706e+01  \n",
       "23  TX.VAL.MRCH.CD.WT  1960  4.645919e+09  \n",
       "24  TX.VAL.MRCH.WL.CD  1960  2.468800e+09  \n",
       "25  TX.VAL.MRCH.RS.ZS  1960  1.646954e+01  \n",
       "26  TX.VAL.MRCH.R1.ZS  1960  2.260207e+00  \n",
       "27  TX.VAL.MRCH.R3.ZS  1960  4.496111e-01  \n",
       "28  TX.VAL.MRCH.R4.ZS  1960  6.379618e+00  \n",
       "29  TX.VAL.MRCH.R5.ZS  1960  2.790830e+00  "
      ]
     },
     "execution_count": 3,
     "metadata": {},
     "output_type": "execute_result"
    }
   ],
   "source": [
    "dataset.head(30)"
   ]
  },
  {
   "cell_type": "markdown",
   "metadata": {},
   "source": [
    "The data contains information on several developmental indicators , across countries/regions including years. **How many countries, years and indicators are there?**"
   ]
  },
  {
   "cell_type": "code",
   "execution_count": 4,
   "metadata": {},
   "outputs": [
    {
     "data": {
      "text/plain": [
       "247"
      ]
     },
     "execution_count": 4,
     "metadata": {},
     "output_type": "execute_result"
    }
   ],
   "source": [
    "# Number of countires in the dataset with unique name (CountryName)\n",
    "countries = dataset['CountryName'].unique().tolist()\n",
    "len(countries)"
   ]
  },
  {
   "cell_type": "markdown",
   "metadata": {},
   "source": [
    "There are about 247 countries listed. **Are there also 247 unique county codes?**"
   ]
  },
  {
   "cell_type": "code",
   "execution_count": 5,
   "metadata": {},
   "outputs": [
    {
     "data": {
      "text/plain": [
       "247"
      ]
     },
     "execution_count": 5,
     "metadata": {},
     "output_type": "execute_result"
    }
   ],
   "source": [
    "# How many unique country codes are there ? (should be the same #)\n",
    "countryCodes = dataset['CountryCode'].unique().tolist()\n",
    "len(countryCodes)"
   ]
  },
  {
   "cell_type": "markdown",
   "metadata": {},
   "source": [
    "Indeed there are 247 country codes - Good! **Now, what about the indicators - how many are they?**"
   ]
  },
  {
   "cell_type": "code",
   "execution_count": 6,
   "metadata": {},
   "outputs": [
    {
     "data": {
      "text/plain": [
       "1344"
      ]
     },
     "execution_count": 6,
     "metadata": {},
     "output_type": "execute_result"
    }
   ],
   "source": [
    "indicators = dataset['IndicatorName'].unique().tolist()\n",
    "len(indicators)"
   ]
  },
  {
   "cell_type": "markdown",
   "metadata": {},
   "source": [
    "Interesting! there are 1344 indicators. **How many years does these indicators cover and what range?**"
   ]
  },
  {
   "cell_type": "code",
   "execution_count": 7,
   "metadata": {},
   "outputs": [
    {
     "data": {
      "text/plain": [
       "56"
      ]
     },
     "execution_count": 7,
     "metadata": {},
     "output_type": "execute_result"
    }
   ],
   "source": [
    "# Number of years in the dataset\n",
    "years = dataset['Year'].unique().tolist()\n",
    "len(years)"
   ]
  },
  {
   "cell_type": "code",
   "execution_count": 8,
   "metadata": {},
   "outputs": [
    {
     "name": "stdout",
     "output_type": "stream",
     "text": [
      "1960 to 2015\n"
     ]
    }
   ],
   "source": [
    "# Range of years\n",
    "print(min(years),\"to\", max(years))"
   ]
  },
  {
   "cell_type": "markdown",
   "metadata": {},
   "source": [
    "Dataset is for 56 years - between 1960 to 2015"
   ]
  },
  {
   "cell_type": "markdown",
   "metadata": {},
   "source": [
    "**Given the large number of indicators - it is time to pick country of interest (such as Nigeria) and explore:**\n",
    "- the variants of environmental degradation (Sources of CO2 Emissions)\n",
    "- life expectancy\n",
    "- Income (Gross Domestic Product (GDP))\n"
   ]
  },
  {
   "cell_type": "markdown",
   "metadata": {},
   "source": [
    "### Indicator 1: Environmental Degradation (CO2 emissions from liquid fuel consumption (% of Total ) for Nigeria"
   ]
  },
  {
   "cell_type": "code",
   "execution_count": 9,
   "metadata": {},
   "outputs": [],
   "source": [
    "#  CO2 emissions from liquid sources for Nigeria\n",
    "\n",
    "\n",
    "CO2_liquid = 'CO2 emissions from liquid fuel consumption \\(%'\n",
    "CO2_country = 'NGA'\n",
    "\n",
    "mask1 = dataset['IndicatorName'].str.contains(CO2_liquid) \n",
    "mask2 = dataset['CountryCode'].str.contains(CO2_country)\n",
    "\n",
    "stage1 = dataset[mask1 & mask2] # stage1 matches Nigeria with country code, CO2 emisssion from liquid sources (1960-2015)\n"
   ]
  },
  {
   "cell_type": "code",
   "execution_count": 10,
   "metadata": {},
   "outputs": [
    {
     "data": {
      "text/html": [
       "<div>\n",
       "<style scoped>\n",
       "    .dataframe tbody tr th:only-of-type {\n",
       "        vertical-align: middle;\n",
       "    }\n",
       "\n",
       "    .dataframe tbody tr th {\n",
       "        vertical-align: top;\n",
       "    }\n",
       "\n",
       "    .dataframe thead th {\n",
       "        text-align: right;\n",
       "    }\n",
       "</style>\n",
       "<table border=\"1\" class=\"dataframe\">\n",
       "  <thead>\n",
       "    <tr style=\"text-align: right;\">\n",
       "      <th></th>\n",
       "      <th>CountryName</th>\n",
       "      <th>CountryCode</th>\n",
       "      <th>IndicatorName</th>\n",
       "      <th>IndicatorCode</th>\n",
       "      <th>Year</th>\n",
       "      <th>Value</th>\n",
       "    </tr>\n",
       "  </thead>\n",
       "  <tbody>\n",
       "    <tr>\n",
       "      <th>16650</th>\n",
       "      <td>Nigeria</td>\n",
       "      <td>NGA</td>\n",
       "      <td>CO2 emissions from liquid fuel consumption (% ...</td>\n",
       "      <td>EN.ATM.CO2E.LF.ZS</td>\n",
       "      <td>1960</td>\n",
       "      <td>55.113025</td>\n",
       "    </tr>\n",
       "    <tr>\n",
       "      <th>42276</th>\n",
       "      <td>Nigeria</td>\n",
       "      <td>NGA</td>\n",
       "      <td>CO2 emissions from liquid fuel consumption (% ...</td>\n",
       "      <td>EN.ATM.CO2E.LF.ZS</td>\n",
       "      <td>1961</td>\n",
       "      <td>59.714795</td>\n",
       "    </tr>\n",
       "    <tr>\n",
       "      <th>70198</th>\n",
       "      <td>Nigeria</td>\n",
       "      <td>NGA</td>\n",
       "      <td>CO2 emissions from liquid fuel consumption (% ...</td>\n",
       "      <td>EN.ATM.CO2E.LF.ZS</td>\n",
       "      <td>1962</td>\n",
       "      <td>55.964912</td>\n",
       "    </tr>\n",
       "    <tr>\n",
       "      <th>98761</th>\n",
       "      <td>Nigeria</td>\n",
       "      <td>NGA</td>\n",
       "      <td>CO2 emissions from liquid fuel consumption (% ...</td>\n",
       "      <td>EN.ATM.CO2E.LF.ZS</td>\n",
       "      <td>1963</td>\n",
       "      <td>45.921864</td>\n",
       "    </tr>\n",
       "    <tr>\n",
       "      <th>127692</th>\n",
       "      <td>Nigeria</td>\n",
       "      <td>NGA</td>\n",
       "      <td>CO2 emissions from liquid fuel consumption (% ...</td>\n",
       "      <td>EN.ATM.CO2E.LF.ZS</td>\n",
       "      <td>1964</td>\n",
       "      <td>44.455645</td>\n",
       "    </tr>\n",
       "  </tbody>\n",
       "</table>\n",
       "</div>"
      ],
      "text/plain": [
       "       CountryName CountryCode  \\\n",
       "16650      Nigeria         NGA   \n",
       "42276      Nigeria         NGA   \n",
       "70198      Nigeria         NGA   \n",
       "98761      Nigeria         NGA   \n",
       "127692     Nigeria         NGA   \n",
       "\n",
       "                                            IndicatorName      IndicatorCode  \\\n",
       "16650   CO2 emissions from liquid fuel consumption (% ...  EN.ATM.CO2E.LF.ZS   \n",
       "42276   CO2 emissions from liquid fuel consumption (% ...  EN.ATM.CO2E.LF.ZS   \n",
       "70198   CO2 emissions from liquid fuel consumption (% ...  EN.ATM.CO2E.LF.ZS   \n",
       "98761   CO2 emissions from liquid fuel consumption (% ...  EN.ATM.CO2E.LF.ZS   \n",
       "127692  CO2 emissions from liquid fuel consumption (% ...  EN.ATM.CO2E.LF.ZS   \n",
       "\n",
       "        Year      Value  \n",
       "16650   1960  55.113025  \n",
       "42276   1961  59.714795  \n",
       "70198   1962  55.964912  \n",
       "98761   1963  45.921864  \n",
       "127692  1964  44.455645  "
      ]
     },
     "execution_count": 10,
     "metadata": {},
     "output_type": "execute_result"
    }
   ],
   "source": [
    "stage1.head()"
   ]
  },
  {
   "cell_type": "code",
   "execution_count": 11,
   "metadata": {},
   "outputs": [
    {
     "data": {
      "text/plain": [
       "count    52.000000\n",
       "mean     45.003467\n",
       "std      18.956058\n",
       "min      15.517749\n",
       "25%      31.672099\n",
       "50%      42.204783\n",
       "75%      55.325997\n",
       "max      82.123884\n",
       "Name: Value, dtype: float64"
      ]
     },
     "execution_count": 11,
     "metadata": {},
     "output_type": "execute_result"
    }
   ],
   "source": [
    "stage1['Value'].describe()"
   ]
  },
  {
   "cell_type": "markdown",
   "metadata": {},
   "source": [
    "The descriptive statistics shows that:\n",
    "    - average share CO2 emissions from liquid sources is about 45% in Nigeria with a median of 42% between 1960 - 2015\n",
    "    - 82% and 16% represent the maximum and minimum shares of CO2 emissions from liquid sources in Nigeria\n",
    "    "
   ]
  },
  {
   "cell_type": "markdown",
   "metadata": {},
   "source": [
    "**How does CO2 Emissions from liquid sources change over time ?** "
   ]
  },
  {
   "cell_type": "code",
   "execution_count": 12,
   "metadata": {},
   "outputs": [
    {
     "data": {
      "image/png": "[encoded data removed]",
      "text/plain": [
       "<Figure size 432x288 with 1 Axes>"
      ]
     },
     "metadata": {
      "needs_background": "light"
     },
     "output_type": "display_data"
    }
   ],
   "source": [
    "Years = stage1['Year'].values # Obtaining the years\n",
    "CO2_1 = stage1['Value'].values # values of CO2 emissions from liquid sources\n",
    "\n",
    "plt.bar(Years,CO2_1)\n",
    "plt.show()"
   ]
  },
  {
   "cell_type": "markdown",
   "metadata": {},
   "source": [
    "It could be infered that share CO2 emissions from liquid sources seem to flucttuate with its lowest and highest in 1975 and 1992 respectively. A further exploration of data using a line graph. "
   ]
  },
  {
   "cell_type": "code",
   "execution_count": 13,
   "metadata": {
    "scrolled": true
   },
   "outputs": [
    {
     "data": {
      "image/png": "[encoded data removed]",
      "text/plain": [
       "<Figure size 432x288 with 1 Axes>"
      ]
     },
     "metadata": {
      "needs_background": "light"
     },
     "output_type": "display_data"
    }
   ],
   "source": [
    "plt.plot(stage1['Year'].values, stage1['Value'].values)\n",
    "\n",
    "# Label the axes\n",
    "plt.xlabel('Year')\n",
    "plt.ylabel(stage1['IndicatorName'].iloc[0])\n",
    "\n",
    "#label the figure\n",
    "plt.title('Fig 1: CO2 Emissions from liquid fuel consumption in Nigeria')\n",
    "\n",
    "# to make more honest, start they y axis at 0\n",
    "plt.axis([1960, 2013,0,85])\n",
    "\n",
    "\n",
    "plt.show()"
   ]
  },
  {
   "cell_type": "markdown",
   "metadata": {},
   "source": [
    "Indeed - CO2 emission from liquid fuel fluctuated between 1960 - 2011"
   ]
  },
  {
   "cell_type": "markdown",
   "metadata": {},
   "source": [
    "### Indicator 2: Environmental Degradation (CO2 emissions from gaseous fuel consumption (% of Total ) for Nigeria\n"
   ]
  },
  {
   "cell_type": "code",
   "execution_count": 14,
   "metadata": {},
   "outputs": [],
   "source": [
    "#  CO2 emissions from gaseous sources for Nigeria\n",
    "\n",
    "CO2_gaseous = 'CO2 emissions from gaseous fuel consumption \\(%'\n",
    "CO2_country = 'NGA'\n",
    "\n",
    "mask3 = dataset['IndicatorName'].str.contains(CO2_gaseous) \n",
    "mask4 = dataset['CountryCode'].str.contains(CO2_country)\n",
    "\n",
    "stage2 = dataset[mask3 & mask4] # stage2 matches Nigeria with country code, CO2 emisssion from solid sources (1960-2015)\n"
   ]
  },
  {
   "cell_type": "code",
   "execution_count": 15,
   "metadata": {},
   "outputs": [
    {
     "data": {
      "text/html": [
       "<div>\n",
       "<style scoped>\n",
       "    .dataframe tbody tr th:only-of-type {\n",
       "        vertical-align: middle;\n",
       "    }\n",
       "\n",
       "    .dataframe tbody tr th {\n",
       "        vertical-align: top;\n",
       "    }\n",
       "\n",
       "    .dataframe thead th {\n",
       "        text-align: right;\n",
       "    }\n",
       "</style>\n",
       "<table border=\"1\" class=\"dataframe\">\n",
       "  <thead>\n",
       "    <tr style=\"text-align: right;\">\n",
       "      <th></th>\n",
       "      <th>CountryName</th>\n",
       "      <th>CountryCode</th>\n",
       "      <th>IndicatorName</th>\n",
       "      <th>IndicatorCode</th>\n",
       "      <th>Year</th>\n",
       "      <th>Value</th>\n",
       "    </tr>\n",
       "  </thead>\n",
       "  <tbody>\n",
       "    <tr>\n",
       "      <th>16648</th>\n",
       "      <td>Nigeria</td>\n",
       "      <td>NGA</td>\n",
       "      <td>CO2 emissions from gaseous fuel consumption (%...</td>\n",
       "      <td>EN.ATM.CO2E.GF.ZS</td>\n",
       "      <td>1960</td>\n",
       "      <td>0.000000</td>\n",
       "    </tr>\n",
       "    <tr>\n",
       "      <th>42274</th>\n",
       "      <td>Nigeria</td>\n",
       "      <td>NGA</td>\n",
       "      <td>CO2 emissions from gaseous fuel consumption (%...</td>\n",
       "      <td>EN.ATM.CO2E.GF.ZS</td>\n",
       "      <td>1961</td>\n",
       "      <td>0.000000</td>\n",
       "    </tr>\n",
       "    <tr>\n",
       "      <th>70196</th>\n",
       "      <td>Nigeria</td>\n",
       "      <td>NGA</td>\n",
       "      <td>CO2 emissions from gaseous fuel consumption (%...</td>\n",
       "      <td>EN.ATM.CO2E.GF.ZS</td>\n",
       "      <td>1962</td>\n",
       "      <td>0.000000</td>\n",
       "    </tr>\n",
       "    <tr>\n",
       "      <th>98759</th>\n",
       "      <td>Nigeria</td>\n",
       "      <td>NGA</td>\n",
       "      <td>CO2 emissions from gaseous fuel consumption (%...</td>\n",
       "      <td>EN.ATM.CO2E.GF.ZS</td>\n",
       "      <td>1963</td>\n",
       "      <td>1.096642</td>\n",
       "    </tr>\n",
       "    <tr>\n",
       "      <th>127690</th>\n",
       "      <td>Nigeria</td>\n",
       "      <td>NGA</td>\n",
       "      <td>CO2 emissions from gaseous fuel consumption (%...</td>\n",
       "      <td>EN.ATM.CO2E.GF.ZS</td>\n",
       "      <td>1964</td>\n",
       "      <td>1.411290</td>\n",
       "    </tr>\n",
       "  </tbody>\n",
       "</table>\n",
       "</div>"
      ],
      "text/plain": [
       "       CountryName CountryCode  \\\n",
       "16648      Nigeria         NGA   \n",
       "42274      Nigeria         NGA   \n",
       "70196      Nigeria         NGA   \n",
       "98759      Nigeria         NGA   \n",
       "127690     Nigeria         NGA   \n",
       "\n",
       "                                            IndicatorName      IndicatorCode  \\\n",
       "16648   CO2 emissions from gaseous fuel consumption (%...  EN.ATM.CO2E.GF.ZS   \n",
       "42274   CO2 emissions from gaseous fuel consumption (%...  EN.ATM.CO2E.GF.ZS   \n",
       "70196   CO2 emissions from gaseous fuel consumption (%...  EN.ATM.CO2E.GF.ZS   \n",
       "98759   CO2 emissions from gaseous fuel consumption (%...  EN.ATM.CO2E.GF.ZS   \n",
       "127690  CO2 emissions from gaseous fuel consumption (%...  EN.ATM.CO2E.GF.ZS   \n",
       "\n",
       "        Year     Value  \n",
       "16648   1960  0.000000  \n",
       "42274   1961  0.000000  \n",
       "70196   1962  0.000000  \n",
       "98759   1963  1.096642  \n",
       "127690  1964  1.411290  "
      ]
     },
     "execution_count": 15,
     "metadata": {},
     "output_type": "execute_result"
    }
   ],
   "source": [
    "stage2.head()"
   ]
  },
  {
   "cell_type": "code",
   "execution_count": 16,
   "metadata": {},
   "outputs": [
    {
     "data": {
      "text/plain": [
       "count    52.000000\n",
       "mean     11.624690\n",
       "std       9.065034\n",
       "min       0.000000\n",
       "25%       2.055874\n",
       "50%      12.651906\n",
       "75%      18.890460\n",
       "max      28.848981\n",
       "Name: Value, dtype: float64"
      ]
     },
     "execution_count": 16,
     "metadata": {},
     "output_type": "execute_result"
    }
   ],
   "source": [
    "stage2['Value'].describe()"
   ]
  },
  {
   "cell_type": "markdown",
   "metadata": {},
   "source": [
    "The descriptive statistics shows that:\n",
    "\n",
    "- average share CO2 emissions from gaseous sources is about 11% in Nigeria with a median of 13% between 1960 - 2011\n",
    "- 29% and 0.00% represent the maximum and minimum shares of CO2 emissions from gaseous sources in Nigeria"
   ]
  },
  {
   "cell_type": "markdown",
   "metadata": {},
   "source": [
    "**How does CO2 Emissions from gaseous sources change over time ?** "
   ]
  },
  {
   "cell_type": "code",
   "execution_count": 17,
   "metadata": {},
   "outputs": [
    {
     "data": {
      "image/png": "[encoded data removed]",
      "text/plain": [
       "<Figure size 432x288 with 1 Axes>"
      ]
     },
     "metadata": {
      "needs_background": "light"
     },
     "output_type": "display_data"
    }
   ],
   "source": [
    "Years2 = stage2['Year'].values # Obtaining the years\n",
    "CO2_2 = stage2['Value'].values # values of CO2 emissions from gaseous sources\n",
    "\n",
    "plt.bar(Years,CO2_2)\n",
    "plt.show()"
   ]
  },
  {
   "cell_type": "markdown",
   "metadata": {},
   "source": [
    "Also, it could be infered here that that share CO2 emissions from gaseous sources seem to lowest and highest in 1970s and mid 1990s respectively. A further exploration of data using a line graph. "
   ]
  },
  {
   "cell_type": "code",
   "execution_count": 18,
   "metadata": {},
   "outputs": [
    {
     "data": {
      "image/png": "[encoded data removed]",
      "text/plain": [
       "<Figure size 432x288 with 1 Axes>"
      ]
     },
     "metadata": {
      "needs_background": "light"
     },
     "output_type": "display_data"
    }
   ],
   "source": [
    "plt.plot(stage2['Year'].values, stage2['Value'].values)\n",
    "\n",
    "# Label the axes\n",
    "plt.xlabel('Year')\n",
    "plt.ylabel(stage2['IndicatorName'].iloc[0])\n",
    "\n",
    "#label the figure\n",
    "plt.title('Fig 2: CO2 Emissions from gaseous fuel consumption in Nigeria')\n",
    "\n",
    "# to make more honest, start they y axis at 0\n",
    "plt.axis([1960, 2013,0,45])\n",
    "\n",
    "\n",
    "plt.show()"
   ]
  },
  {
   "cell_type": "markdown",
   "metadata": {},
   "source": [
    "Graphic now appear more presenatable and readable. "
   ]
  },
  {
   "cell_type": "markdown",
   "metadata": {},
   "source": [
    "### Indicator 3: Life expectancy at birth, total (years) -  Nigeria \n"
   ]
  },
  {
   "cell_type": "code",
   "execution_count": 19,
   "metadata": {},
   "outputs": [],
   "source": [
    "# Life expectancy at birth, total (years)\n",
    "\n",
    "lifexp = 'Life expectancy at birth, total \\(years'\n",
    "CO2_country = 'NGA'\n",
    "\n",
    "mask5= dataset['IndicatorName'].str.contains(lifexp) \n",
    "mask6 = dataset['CountryCode'].str.contains(CO2_country)\n",
    "\n",
    "stage3 = dataset[mask5 & mask6] # stage2 matches Nigeria with country code, Life expectancy (1960-2015)\n"
   ]
  },
  {
   "cell_type": "code",
   "execution_count": 20,
   "metadata": {},
   "outputs": [
    {
     "data": {
      "text/html": [
       "<div>\n",
       "<style scoped>\n",
       "    .dataframe tbody tr th:only-of-type {\n",
       "        vertical-align: middle;\n",
       "    }\n",
       "\n",
       "    .dataframe tbody tr th {\n",
       "        vertical-align: top;\n",
       "    }\n",
       "\n",
       "    .dataframe thead th {\n",
       "        text-align: right;\n",
       "    }\n",
       "</style>\n",
       "<table border=\"1\" class=\"dataframe\">\n",
       "  <thead>\n",
       "    <tr style=\"text-align: right;\">\n",
       "      <th></th>\n",
       "      <th>CountryName</th>\n",
       "      <th>CountryCode</th>\n",
       "      <th>IndicatorName</th>\n",
       "      <th>IndicatorCode</th>\n",
       "      <th>Year</th>\n",
       "      <th>Value</th>\n",
       "    </tr>\n",
       "  </thead>\n",
       "  <tbody>\n",
       "    <tr>\n",
       "      <th>16688</th>\n",
       "      <td>Nigeria</td>\n",
       "      <td>NGA</td>\n",
       "      <td>Life expectancy at birth, total (years)</td>\n",
       "      <td>SP.DYN.LE00.IN</td>\n",
       "      <td>1960</td>\n",
       "      <td>37.182951</td>\n",
       "    </tr>\n",
       "    <tr>\n",
       "      <th>42317</th>\n",
       "      <td>Nigeria</td>\n",
       "      <td>NGA</td>\n",
       "      <td>Life expectancy at birth, total (years)</td>\n",
       "      <td>SP.DYN.LE00.IN</td>\n",
       "      <td>1961</td>\n",
       "      <td>37.638268</td>\n",
       "    </tr>\n",
       "    <tr>\n",
       "      <th>70245</th>\n",
       "      <td>Nigeria</td>\n",
       "      <td>NGA</td>\n",
       "      <td>Life expectancy at birth, total (years)</td>\n",
       "      <td>SP.DYN.LE00.IN</td>\n",
       "      <td>1962</td>\n",
       "      <td>38.079073</td>\n",
       "    </tr>\n",
       "    <tr>\n",
       "      <th>98809</th>\n",
       "      <td>Nigeria</td>\n",
       "      <td>NGA</td>\n",
       "      <td>Life expectancy at birth, total (years)</td>\n",
       "      <td>SP.DYN.LE00.IN</td>\n",
       "      <td>1963</td>\n",
       "      <td>38.499854</td>\n",
       "    </tr>\n",
       "    <tr>\n",
       "      <th>127740</th>\n",
       "      <td>Nigeria</td>\n",
       "      <td>NGA</td>\n",
       "      <td>Life expectancy at birth, total (years)</td>\n",
       "      <td>SP.DYN.LE00.IN</td>\n",
       "      <td>1964</td>\n",
       "      <td>38.899122</td>\n",
       "    </tr>\n",
       "  </tbody>\n",
       "</table>\n",
       "</div>"
      ],
      "text/plain": [
       "       CountryName CountryCode                            IndicatorName  \\\n",
       "16688      Nigeria         NGA  Life expectancy at birth, total (years)   \n",
       "42317      Nigeria         NGA  Life expectancy at birth, total (years)   \n",
       "70245      Nigeria         NGA  Life expectancy at birth, total (years)   \n",
       "98809      Nigeria         NGA  Life expectancy at birth, total (years)   \n",
       "127740     Nigeria         NGA  Life expectancy at birth, total (years)   \n",
       "\n",
       "         IndicatorCode  Year      Value  \n",
       "16688   SP.DYN.LE00.IN  1960  37.182951  \n",
       "42317   SP.DYN.LE00.IN  1961  37.638268  \n",
       "70245   SP.DYN.LE00.IN  1962  38.079073  \n",
       "98809   SP.DYN.LE00.IN  1963  38.499854  \n",
       "127740  SP.DYN.LE00.IN  1964  38.899122  "
      ]
     },
     "execution_count": 20,
     "metadata": {},
     "output_type": "execute_result"
    }
   ],
   "source": [
    "stage3.head()"
   ]
  },
  {
   "cell_type": "code",
   "execution_count": 21,
   "metadata": {},
   "outputs": [
    {
     "data": {
      "text/plain": [
       "count    54.000000\n",
       "mean     45.152523\n",
       "std       3.837446\n",
       "min      37.182951\n",
       "25%      42.599598\n",
       "50%      46.098610\n",
       "75%      46.578671\n",
       "max      52.442146\n",
       "Name: Value, dtype: float64"
      ]
     },
     "execution_count": 21,
     "metadata": {},
     "output_type": "execute_result"
    }
   ],
   "source": [
    "stage3['Value'].describe()"
   ]
  },
  {
   "cell_type": "markdown",
   "metadata": {},
   "source": [
    "The average life expectancy at birth between 1960 and 2011 in Nigeria is 45 years while the maximum and minimum years survival ( a measure of maortality rate) being 52 and 37 years respectively."
   ]
  },
  {
   "cell_type": "markdown",
   "metadata": {},
   "source": [
    "**How does Life expectancy at birth vary over time ?** "
   ]
  },
  {
   "cell_type": "code",
   "execution_count": 22,
   "metadata": {},
   "outputs": [
    {
     "data": {
      "image/png": "[encoded data removed]",
      "text/plain": [
       "<Figure size 432x288 with 1 Axes>"
      ]
     },
     "metadata": {
      "needs_background": "light"
     },
     "output_type": "display_data"
    }
   ],
   "source": [
    "Years3 = stage3['Year'].values # Obtaining the years\n",
    "life_1 = stage3['Value'].values # values of life expectancy\n",
    "\n",
    "plt.bar(Years3,life_1)\n",
    "plt.show()"
   ]
  },
  {
   "cell_type": "markdown",
   "metadata": {},
   "source": [
    "Mortality rate seem to be improving especially from the mid 2000s onwards - A a more readable graph will suffice as shown below."
   ]
  },
  {
   "cell_type": "code",
   "execution_count": 23,
   "metadata": {},
   "outputs": [
    {
     "data": {
      "image/png": "[encoded data removed]",
      "text/plain": [
       "<Figure size 432x288 with 1 Axes>"
      ]
     },
     "metadata": {
      "needs_background": "light"
     },
     "output_type": "display_data"
    }
   ],
   "source": [
    "plt.plot(stage3['Year'].values, stage3['Value'].values)\n",
    "\n",
    "# Label the axes\n",
    "plt.xlabel('Year')\n",
    "plt.ylabel(stage3['IndicatorName'].iloc[0])\n",
    "\n",
    "#label the figure\n",
    "plt.title('Fig 3: Life Expectancy at Birth (in years)')\n",
    "\n",
    "# to make more honest, start they y axis at 0\n",
    "plt.axis([1960, 2013,0,60])\n",
    "\n",
    "\n",
    "plt.show()"
   ]
  },
  {
   "cell_type": "markdown",
   "metadata": {},
   "source": [
    "### Indicator 4: Real Per Capita Income in Nigeria  \n"
   ]
  },
  {
   "cell_type": "code",
   "execution_count": 24,
   "metadata": {},
   "outputs": [],
   "source": [
    "# Real Per Capita Income (2005 constant prices)\n",
    "\n",
    "gdpc = 'GDP per capita \\(constant 2005'\n",
    "CO2_country = 'NGA'\n",
    "\n",
    "mask7= dataset['IndicatorName'].str.contains(gdpc) \n",
    "mask8 = dataset['CountryCode'].str.contains(CO2_country)\n",
    "\n",
    "stage4 = dataset[mask7 & mask8] # stage2 matches Nigeria with country code, Life expectancy (1960 - 2013)"
   ]
  },
  {
   "cell_type": "code",
   "execution_count": 25,
   "metadata": {},
   "outputs": [
    {
     "data": {
      "text/html": [
       "<div>\n",
       "<style scoped>\n",
       "    .dataframe tbody tr th:only-of-type {\n",
       "        vertical-align: middle;\n",
       "    }\n",
       "\n",
       "    .dataframe tbody tr th {\n",
       "        vertical-align: top;\n",
       "    }\n",
       "\n",
       "    .dataframe thead th {\n",
       "        text-align: right;\n",
       "    }\n",
       "</style>\n",
       "<table border=\"1\" class=\"dataframe\">\n",
       "  <thead>\n",
       "    <tr style=\"text-align: right;\">\n",
       "      <th></th>\n",
       "      <th>CountryName</th>\n",
       "      <th>CountryCode</th>\n",
       "      <th>IndicatorName</th>\n",
       "      <th>IndicatorCode</th>\n",
       "      <th>Year</th>\n",
       "      <th>Value</th>\n",
       "    </tr>\n",
       "  </thead>\n",
       "  <tbody>\n",
       "    <tr>\n",
       "      <th>16671</th>\n",
       "      <td>Nigeria</td>\n",
       "      <td>NGA</td>\n",
       "      <td>GDP per capita (constant 2005 US$)</td>\n",
       "      <td>NY.GDP.PCAP.KD</td>\n",
       "      <td>1960</td>\n",
       "      <td>559.194584</td>\n",
       "    </tr>\n",
       "    <tr>\n",
       "      <th>42298</th>\n",
       "      <td>Nigeria</td>\n",
       "      <td>NGA</td>\n",
       "      <td>GDP per capita (constant 2005 US$)</td>\n",
       "      <td>NY.GDP.PCAP.KD</td>\n",
       "      <td>1961</td>\n",
       "      <td>548.944501</td>\n",
       "    </tr>\n",
       "    <tr>\n",
       "      <th>70224</th>\n",
       "      <td>Nigeria</td>\n",
       "      <td>NGA</td>\n",
       "      <td>GDP per capita (constant 2005 US$)</td>\n",
       "      <td>NY.GDP.PCAP.KD</td>\n",
       "      <td>1962</td>\n",
       "      <td>559.658099</td>\n",
       "    </tr>\n",
       "    <tr>\n",
       "      <th>98788</th>\n",
       "      <td>Nigeria</td>\n",
       "      <td>NGA</td>\n",
       "      <td>GDP per capita (constant 2005 US$)</td>\n",
       "      <td>NY.GDP.PCAP.KD</td>\n",
       "      <td>1963</td>\n",
       "      <td>594.909205</td>\n",
       "    </tr>\n",
       "    <tr>\n",
       "      <th>127719</th>\n",
       "      <td>Nigeria</td>\n",
       "      <td>NGA</td>\n",
       "      <td>GDP per capita (constant 2005 US$)</td>\n",
       "      <td>NY.GDP.PCAP.KD</td>\n",
       "      <td>1964</td>\n",
       "      <td>611.136904</td>\n",
       "    </tr>\n",
       "  </tbody>\n",
       "</table>\n",
       "</div>"
      ],
      "text/plain": [
       "       CountryName CountryCode                       IndicatorName  \\\n",
       "16671      Nigeria         NGA  GDP per capita (constant 2005 US$)   \n",
       "42298      Nigeria         NGA  GDP per capita (constant 2005 US$)   \n",
       "70224      Nigeria         NGA  GDP per capita (constant 2005 US$)   \n",
       "98788      Nigeria         NGA  GDP per capita (constant 2005 US$)   \n",
       "127719     Nigeria         NGA  GDP per capita (constant 2005 US$)   \n",
       "\n",
       "         IndicatorCode  Year       Value  \n",
       "16671   NY.GDP.PCAP.KD  1960  559.194584  \n",
       "42298   NY.GDP.PCAP.KD  1961  548.944501  \n",
       "70224   NY.GDP.PCAP.KD  1962  559.658099  \n",
       "98788   NY.GDP.PCAP.KD  1963  594.909205  \n",
       "127719  NY.GDP.PCAP.KD  1964  611.136904  "
      ]
     },
     "execution_count": 25,
     "metadata": {},
     "output_type": "execute_result"
    }
   ],
   "source": [
    "stage4.head()"
   ]
  },
  {
   "cell_type": "code",
   "execution_count": 26,
   "metadata": {},
   "outputs": [
    {
     "data": {
      "text/plain": [
       "count      55.000000\n",
       "mean      694.066380\n",
       "std       170.509273\n",
       "min       468.102249\n",
       "25%       558.287135\n",
       "50%       611.985719\n",
       "75%       817.390862\n",
       "max      1098.040084\n",
       "Name: Value, dtype: float64"
      ]
     },
     "execution_count": 26,
     "metadata": {},
     "output_type": "execute_result"
    }
   ],
   "source": [
    "stage4['Value'].describe()"
   ]
  },
  {
   "cell_type": "markdown",
   "metadata": {},
   "source": [
    "The average income per-capita in Nigeria between 1960 - 2013 is reported as 694USD.\n",
    "- While the maximum income is 1098USD, the lowest being 468.\n",
    "- A median income per person is foind to be 612USD - a value less than the average income."
   ]
  },
  {
   "cell_type": "markdown",
   "metadata": {},
   "source": [
    "**How does the Nigerian income per capita vary over time ?** "
   ]
  },
  {
   "cell_type": "code",
   "execution_count": 27,
   "metadata": {},
   "outputs": [
    {
     "data": {
      "image/png": "[encoded data removed]",
      "text/plain": [
       "<Figure size 432x288 with 1 Axes>"
      ]
     },
     "metadata": {
      "needs_background": "light"
     },
     "output_type": "display_data"
    }
   ],
   "source": [
    "Years4 = stage4['Year'].values # Obtaining the years\n",
    "gdpc_1 = stage4['Value'].values # values of life expectancy\n",
    "\n",
    "plt.bar(Years4,gdpc_1)\n",
    "plt.show()"
   ]
  },
  {
   "cell_type": "markdown",
   "metadata": {},
   "source": [
    "Graphic here may imply that while income per capita between 1990 - 2004 show a marginal increase, there seem to be a gradual rise in income from the year 2005 upwards. A proper refelction on this can be gleaned through a line plot as presented below."
   ]
  },
  {
   "cell_type": "code",
   "execution_count": 28,
   "metadata": {},
   "outputs": [
    {
     "data": {
      "image/png": "[encoded data removed]",
      "text/plain": [
       "<Figure size 432x288 with 1 Axes>"
      ]
     },
     "metadata": {
      "needs_background": "light"
     },
     "output_type": "display_data"
    }
   ],
   "source": [
    "plt.plot(stage4['Year'].values, stage4['Value'].values)\n",
    "\n",
    "# Label the axes\n",
    "plt.xlabel('Year')\n",
    "plt.ylabel(stage4['IndicatorName'].iloc[0])\n",
    "\n",
    "#label the figure\n",
    "plt.title('Fig 4:Real Per Capita Income in Nigeria (in USD)')\n",
    "\n",
    "# to make more honest, start the y axis at 0\n",
    "plt.axis([1960, 2011, 100, 1100])\n",
    "\n",
    "\n",
    "plt.show()"
   ]
  },
  {
   "cell_type": "markdown",
   "metadata": {},
   "source": [
    "**- Having explored the indicators of interest to this analysis, how do each indicator relate to each other? Does the source of CO2 emission really matter? This will be th basis of secion 2.**"
   ]
  },
  {
   "cell_type": "markdown",
   "metadata": {},
   "source": [
    "### Indicator 5: Environmental Degradation (Per-capita CO2 Emissions in Metric tonnes ) for Nigeria\n"
   ]
  },
  {
   "cell_type": "code",
   "execution_count": 29,
   "metadata": {},
   "outputs": [],
   "source": [
    "# select CO2 emissions for the United States\n",
    "Co2_pc = 'CO2 emissions \\(metric'\n",
    "CO2_country = 'NGA'\n",
    "\n",
    "mask9 = dataset['IndicatorName'].str.contains(Co2_pc) \n",
    "mask10 = dataset['CountryCode'].str.contains(CO2_country)\n",
    "\n",
    "# stage is just those indicators matching the USA for country code and CO2 emissions over time.\n",
    "stage5 = dataset[mask9 & mask10]"
   ]
  },
  {
   "cell_type": "code",
   "execution_count": 30,
   "metadata": {},
   "outputs": [
    {
     "data": {
      "text/html": [
       "<div>\n",
       "<style scoped>\n",
       "    .dataframe tbody tr th:only-of-type {\n",
       "        vertical-align: middle;\n",
       "    }\n",
       "\n",
       "    .dataframe tbody tr th {\n",
       "        vertical-align: top;\n",
       "    }\n",
       "\n",
       "    .dataframe thead th {\n",
       "        text-align: right;\n",
       "    }\n",
       "</style>\n",
       "<table border=\"1\" class=\"dataframe\">\n",
       "  <thead>\n",
       "    <tr style=\"text-align: right;\">\n",
       "      <th></th>\n",
       "      <th>CountryName</th>\n",
       "      <th>CountryCode</th>\n",
       "      <th>IndicatorName</th>\n",
       "      <th>IndicatorCode</th>\n",
       "      <th>Year</th>\n",
       "      <th>Value</th>\n",
       "    </tr>\n",
       "  </thead>\n",
       "  <tbody>\n",
       "    <tr>\n",
       "      <th>16647</th>\n",
       "      <td>Nigeria</td>\n",
       "      <td>NGA</td>\n",
       "      <td>CO2 emissions (metric tons per capita)</td>\n",
       "      <td>EN.ATM.CO2E.PC</td>\n",
       "      <td>1960</td>\n",
       "      <td>0.075349</td>\n",
       "    </tr>\n",
       "    <tr>\n",
       "      <th>42273</th>\n",
       "      <td>Nigeria</td>\n",
       "      <td>NGA</td>\n",
       "      <td>CO2 emissions (metric tons per capita)</td>\n",
       "      <td>EN.ATM.CO2E.PC</td>\n",
       "      <td>1961</td>\n",
       "      <td>0.089163</td>\n",
       "    </tr>\n",
       "    <tr>\n",
       "      <th>70195</th>\n",
       "      <td>Nigeria</td>\n",
       "      <td>NGA</td>\n",
       "      <td>CO2 emissions (metric tons per capita)</td>\n",
       "      <td>EN.ATM.CO2E.PC</td>\n",
       "      <td>1962</td>\n",
       "      <td>0.088722</td>\n",
       "    </tr>\n",
       "    <tr>\n",
       "      <th>98758</th>\n",
       "      <td>Nigeria</td>\n",
       "      <td>NGA</td>\n",
       "      <td>CO2 emissions (metric tons per capita)</td>\n",
       "      <td>EN.ATM.CO2E.PC</td>\n",
       "      <td>1963</td>\n",
       "      <td>0.111164</td>\n",
       "    </tr>\n",
       "    <tr>\n",
       "      <th>127689</th>\n",
       "      <td>Nigeria</td>\n",
       "      <td>NGA</td>\n",
       "      <td>CO2 emissions (metric tons per capita)</td>\n",
       "      <td>EN.ATM.CO2E.PC</td>\n",
       "      <td>1964</td>\n",
       "      <td>0.147963</td>\n",
       "    </tr>\n",
       "  </tbody>\n",
       "</table>\n",
       "</div>"
      ],
      "text/plain": [
       "       CountryName CountryCode                           IndicatorName  \\\n",
       "16647      Nigeria         NGA  CO2 emissions (metric tons per capita)   \n",
       "42273      Nigeria         NGA  CO2 emissions (metric tons per capita)   \n",
       "70195      Nigeria         NGA  CO2 emissions (metric tons per capita)   \n",
       "98758      Nigeria         NGA  CO2 emissions (metric tons per capita)   \n",
       "127689     Nigeria         NGA  CO2 emissions (metric tons per capita)   \n",
       "\n",
       "         IndicatorCode  Year     Value  \n",
       "16647   EN.ATM.CO2E.PC  1960  0.075349  \n",
       "42273   EN.ATM.CO2E.PC  1961  0.089163  \n",
       "70195   EN.ATM.CO2E.PC  1962  0.088722  \n",
       "98758   EN.ATM.CO2E.PC  1963  0.111164  \n",
       "127689  EN.ATM.CO2E.PC  1964  0.147963  "
      ]
     },
     "execution_count": 30,
     "metadata": {},
     "output_type": "execute_result"
    }
   ],
   "source": [
    "stage5.head()"
   ]
  },
  {
   "cell_type": "code",
   "execution_count": 31,
   "metadata": {},
   "outputs": [
    {
     "data": {
      "text/plain": [
       "count    52.000000\n",
       "mean      0.557532\n",
       "std       0.258980\n",
       "min       0.075349\n",
       "25%       0.360869\n",
       "50%       0.628863\n",
       "75%       0.750404\n",
       "max       1.007021\n",
       "Name: Value, dtype: float64"
      ]
     },
     "execution_count": 31,
     "metadata": {},
     "output_type": "execute_result"
    }
   ],
   "source": [
    "stage5['Value'].describe()"
   ]
  },
  {
   "cell_type": "markdown",
   "metadata": {},
   "source": [
    "- The per capita CO2 emission between 1960 to 2011 is 0.557 metric tons per. \n",
    "- The minimun and maximum values are 0.08 and 1 metric tons per capita respectively."
   ]
  },
  {
   "cell_type": "code",
   "execution_count": 32,
   "metadata": {},
   "outputs": [
    {
     "data": {
      "image/png": "[encoded data removed]",
      "text/plain": [
       "<Figure size 432x288 with 1 Axes>"
      ]
     },
     "metadata": {
      "needs_background": "light"
     },
     "output_type": "display_data"
    }
   ],
   "source": [
    "Years5 = stage5['Year'].values # Obtaining the years\n",
    "co2_pc1 = stage5['Value'].values # values of life expectancy\n",
    "\n",
    "plt.bar(Years5,co2_pc1)\n",
    "plt.show()"
   ]
  },
  {
   "cell_type": "code",
   "execution_count": 33,
   "metadata": {},
   "outputs": [
    {
     "ename": "SyntaxError",
     "evalue": "invalid syntax (<ipython-input-33-ab63f34e9d5c>, line 1)",
     "output_type": "error",
     "traceback": [
      "\u001b[1;36m  File \u001b[1;32m\"<ipython-input-33-ab63f34e9d5c>\"\u001b[1;36m, line \u001b[1;32m1\u001b[0m\n\u001b[1;33m    - The figure above seem to pp\u001b[0m\n\u001b[1;37m          ^\u001b[0m\n\u001b[1;31mSyntaxError\u001b[0m\u001b[1;31m:\u001b[0m invalid syntax\n"
     ]
    }
   ],
   "source": [
    "- The figure above seem to pp"
   ]
  },
  {
   "cell_type": "code",
   "execution_count": 34,
   "metadata": {},
   "outputs": [
    {
     "data": {
      "text/plain": [
       "(1960.0, 2011.0, 0.0, 1.0)"
      ]
     },
     "execution_count": 34,
     "metadata": {},
     "output_type": "execute_result"
    },
    {
     "data": {
      "image/png": "[encoded data removed]",
      "text/plain": [
       "<Figure size 432x288 with 1 Axes>"
      ]
     },
     "metadata": {
      "needs_background": "light"
     },
     "output_type": "display_data"
    }
   ],
   "source": [
    "plt.plot(stage5['Year'].values, stage5['Value'].values)\n",
    "\n",
    "# Label the axes\n",
    "plt.xlabel('Year')\n",
    "plt.ylabel(stage5['IndicatorName'].iloc[0])\n",
    "\n",
    "#label the figure\n",
    "plt.title('Fig 4:Per Capita CO2 Emission in Nigeria')\n",
    "\n",
    "# to make more honest, start the y axis at 0\n",
    "plt.axis([1960, 2011, 0, 1])\n",
    "\n"
   ]
  },
  {
   "cell_type": "code",
   "execution_count": null,
   "metadata": {},
   "outputs": [],
   "source": []
  },
  {
   "cell_type": "markdown",
   "metadata": {},
   "source": [
    "# Section 2: Data Analysis - More Data Visualization and Correlation "
   ]
  },
  {
   "cell_type": "markdown",
   "metadata": {},
   "source": [
    "### What is the relationship between Life expectancy at birth, total (years) and (CO2 emissions from liquid fuel consumption (% of Total )"
   ]
  },
  {
   "cell_type": "code",
   "execution_count": 35,
   "metadata": {},
   "outputs": [
    {
     "name": "stdout",
     "output_type": "stream",
     "text": [
      "Life_exp Min Year =  1960 max:  2013\n",
      "CO2_liquid Min Year =  1960 max:  2011\n"
     ]
    }
   ],
   "source": [
    "print(\"Life_exp Min Year = \", stage3['Year'].min(), \"max: \", stage3['Year'].max())\n",
    "print(\"CO2_liquid Min Year = \", stage1['Year'].min(), \"max: \", stage1['Year'].max())"
   ]
  },
  {
   "cell_type": "markdown",
   "metadata": {},
   "source": [
    "- An extra 3 years of life expectancy variable was observed - It is imporant to restrict both variables to the same year."
   ]
  },
  {
   "cell_type": "code",
   "execution_count": 36,
   "metadata": {},
   "outputs": [
    {
     "name": "stdout",
     "output_type": "stream",
     "text": [
      "52\n",
      "52\n"
     ]
    }
   ],
   "source": [
    "stage3_life = stage3[stage3['Year'] < 2012]\n",
    "print(len(stage3_life))\n",
    "print(len(stage1))"
   ]
  },
  {
   "cell_type": "markdown",
   "metadata": {},
   "source": [
    "-- Both variables now have the same number of years - good!"
   ]
  },
  {
   "cell_type": "code",
   "execution_count": 37,
   "metadata": {},
   "outputs": [
    {
     "data": {
      "image/png": "[encoded data removed]",
      "text/plain": [
       "<Figure size 432x288 with 1 Axes>"
      ]
     },
     "metadata": {
      "needs_background": "light"
     },
     "output_type": "display_data"
    }
   ],
   "source": [
    "%matplotlib inline\n",
    "import matplotlib.pyplot as plt\n",
    "\n",
    "fig, axis = plt.subplots()\n",
    "# Grid lines, Xticks, Xlabel, Ylabel\n",
    "\n",
    "axis.yaxis.grid(True)\n",
    "axis.set_title('Fig 5:Liquid CO2 Emissions vs. Life Expectancy at birth)',fontsize=12)\n",
    "axis.set_xlabel(stage3_life['IndicatorName'].iloc[0],fontsize=12)\n",
    "axis.set_ylabel(stage1['IndicatorName'].iloc[0],fontsize=12)\n",
    "\n",
    "X = stage3_life['Value']\n",
    "Y = stage1['Value']\n",
    "\n",
    "axis.scatter(X, Y)\n",
    "plt.show()"
   ]
  },
  {
   "cell_type": "markdown",
   "metadata": {},
   "source": [
    "- The scatter plot shown in Figure 5 above is indicative that CO2 emission from liquid sources may weakly correlated with life expectancy in Nigeria. \n",
    "- This implies there is discernable pattern in the nature of such relationship. \n",
    "- Perhaps, it may be relevant to explore this further using the correlations tests."
   ]
  },
  {
   "cell_type": "code",
   "execution_count": 38,
   "metadata": {},
   "outputs": [
    {
     "data": {
      "text/plain": [
       "array([[1.      , 0.086301],\n",
       "       [0.086301, 1.      ]])"
      ]
     },
     "execution_count": 38,
     "metadata": {},
     "output_type": "execute_result"
    }
   ],
   "source": [
    "np.corrcoef(stage3_life['Value'],stage1['Value'])"
   ]
  },
  {
   "cell_type": "markdown",
   "metadata": {},
   "source": [
    "- The correlation coefficient of 0.09 shows that CO2 emission from liquid sources and life expectancy is positively correlated-though a weak one.\n",
    "- The result of the correlation test displayed above indeed confirms a very weak correlationship between CO2 emission from liquid sources and life expectancy in Nigeria."
   ]
  },
  {
   "cell_type": "markdown",
   "metadata": {},
   "source": [
    "### What is the relationship between Life expectancy at birth, total (years) and (CO2 emissions from gaseous fuel consumption (% of Total )"
   ]
  },
  {
   "cell_type": "code",
   "execution_count": 39,
   "metadata": {},
   "outputs": [
    {
     "name": "stdout",
     "output_type": "stream",
     "text": [
      "Life_exp1 Min Year =  1960 max:  2013\n",
      "CO2_gaseous Min Year =  1960 max:  2011\n"
     ]
    }
   ],
   "source": [
    "print(\"Life_exp1 Min Year = \", stage3['Year'].min(), \"max: \", stage3['Year'].max())\n",
    "print(\"CO2_gaseous Min Year = \", stage2['Year'].min(), \"max: \", stage2['Year'].max())"
   ]
  },
  {
   "cell_type": "code",
   "execution_count": 40,
   "metadata": {},
   "outputs": [
    {
     "name": "stdout",
     "output_type": "stream",
     "text": [
      "52\n",
      "52\n"
     ]
    }
   ],
   "source": [
    "stage3_life = stage3[stage3['Year'] < 2012]\n",
    "print(len(stage3_life))\n",
    "print(len(stage2))"
   ]
  },
  {
   "cell_type": "code",
   "execution_count": 41,
   "metadata": {},
   "outputs": [
    {
     "data": {
      "text/plain": [
       "<matplotlib.collections.PathCollection at 0x230544ac6a0>"
      ]
     },
     "execution_count": 41,
     "metadata": {},
     "output_type": "execute_result"
    },
    {
     "data": {
      "image/png": "[encoded data removed]",
      "text/plain": [
       "<Figure size 432x288 with 1 Axes>"
      ]
     },
     "metadata": {
      "needs_background": "light"
     },
     "output_type": "display_data"
    }
   ],
   "source": [
    "%matplotlib inline\n",
    "import matplotlib.pyplot as plt\n",
    "\n",
    "fig, axis = plt.subplots()\n",
    "# Grid lines, Xticks, Xlabel, Ylabel\n",
    "\n",
    "axis.yaxis.grid(True)\n",
    "axis.set_title('Fig 6:Gaseous CO2 Emissions vs. Life Expectancy at birth)',fontsize=12)\n",
    "axis.set_xlabel(stage3_life['IndicatorName'].iloc[0],fontsize=12)\n",
    "axis.set_ylabel(stage2['IndicatorName'].iloc[0],fontsize=12)\n",
    "\n",
    "X = stage3_life['Value']\n",
    "Y = stage2['Value']\n",
    "\n",
    "axis.scatter(X, Y)"
   ]
  },
  {
   "cell_type": "markdown",
   "metadata": {},
   "source": [
    "- The scatter plot shown depicts a high correlation between CO2 emission from gaseous sources and life expectancy in Nigeria. "
   ]
  },
  {
   "cell_type": "code",
   "execution_count": 42,
   "metadata": {},
   "outputs": [
    {
     "data": {
      "text/plain": [
       "array([[1.        , 0.76503286],\n",
       "       [0.76503286, 1.        ]])"
      ]
     },
     "execution_count": 42,
     "metadata": {},
     "output_type": "execute_result"
    }
   ],
   "source": [
    "np.corrcoef(stage3_life['Value'],stage2['Value'])"
   ]
  },
  {
   "cell_type": "markdown",
   "metadata": {},
   "source": [
    "- The correlation coefficient between CO2 emission form gaseous sources and life expectancy is 0.76 and close to 1\n",
    "- This correlation coefficient is also positive.\n",
    "- This implies a high and positive correlation between both indicators.\n",
    "- We can infer that as environmental degradation through CO2 emission from gaseous sources increases, life expectancy also improves.\n",
    "- The result seem to be be more related to the level of emission. \n",
    "- It is documented that low income countries with low CO2 emissions are more likely to experiencing higher incidences of life expectancy."
   ]
  },
  {
   "cell_type": "markdown",
   "metadata": {},
   "source": [
    "### What is the relationship between life expectancy and CO2 emissions per capita (in metric ton )¶"
   ]
  },
  {
   "cell_type": "code",
   "execution_count": 43,
   "metadata": {},
   "outputs": [
    {
     "name": "stdout",
     "output_type": "stream",
     "text": [
      "Life_exp1 Min Year =  1960 max:  2013\n",
      "CO2_pcc Min Year =  1960 max:  2011\n"
     ]
    }
   ],
   "source": [
    "print(\"Life_exp1 Min Year = \", stage3['Year'].min(), \"max: \", stage3['Year'].max())\n",
    "print(\"CO2_pcc Min Year = \", stage5['Year'].min(), \"max: \", stage5['Year'].max())"
   ]
  },
  {
   "cell_type": "code",
   "execution_count": 44,
   "metadata": {},
   "outputs": [
    {
     "name": "stdout",
     "output_type": "stream",
     "text": [
      "52\n",
      "52\n"
     ]
    }
   ],
   "source": [
    "stage3_life = stage3[stage3['Year'] < 2012]\n",
    "print(len(stage3_life))\n",
    "print(len(stage5))"
   ]
  },
  {
   "cell_type": "code",
   "execution_count": 45,
   "metadata": {},
   "outputs": [
    {
     "data": {
      "text/plain": [
       "<matplotlib.collections.PathCollection at 0x23054653b50>"
      ]
     },
     "execution_count": 45,
     "metadata": {},
     "output_type": "execute_result"
    },
    {
     "data": {
      "image/png": "[encoded data removed]",
      "text/plain": [
       "<Figure size 432x288 with 1 Axes>"
      ]
     },
     "metadata": {
      "needs_background": "light"
     },
     "output_type": "display_data"
    }
   ],
   "source": [
    "%matplotlib inline\n",
    "import matplotlib.pyplot as plt\n",
    "\n",
    "fig, axis = plt.subplots()\n",
    "# Grid lines, Xticks, Xlabel, Ylabel\n",
    "\n",
    "axis.yaxis.grid(True)\n",
    "axis.set_title('Fig 6:Per Capita CO2 Emissions vs. Life Expectancy at birth)',fontsize=12)\n",
    "axis.set_xlabel(stage3_life['IndicatorName'].iloc[0],fontsize=12)\n",
    "axis.set_ylabel(stage5['IndicatorName'].iloc[0],fontsize=12)\n",
    "\n",
    "X = stage3_life['Value']\n",
    "Y = stage5['Value']\n",
    "\n",
    "axis.scatter(X, Y)"
   ]
  },
  {
   "cell_type": "code",
   "execution_count": 46,
   "metadata": {},
   "outputs": [
    {
     "data": {
      "text/plain": [
       "array([[1.        , 0.54124906],\n",
       "       [0.54124906, 1.        ]])"
      ]
     },
     "execution_count": 46,
     "metadata": {},
     "output_type": "execute_result"
    }
   ],
   "source": [
    "np.corrcoef(stage3_life['Value'],stage5['Value'])"
   ]
  },
  {
   "cell_type": "markdown",
   "metadata": {},
   "source": [
    "### Again - there seem to be a positive correlation between life expectancy and Per-capita CO2 Emission."
   ]
  },
  {
   "cell_type": "markdown",
   "metadata": {},
   "source": [
    "### What is the relationship between GDP per capita and CO2 emissions from liquid sources?"
   ]
  },
  {
   "cell_type": "code",
   "execution_count": 47,
   "metadata": {},
   "outputs": [
    {
     "name": "stdout",
     "output_type": "stream",
     "text": [
      "gdppc Min Year =  1960 max:  2014\n",
      "CO2_l1 Min Year =  1960 max:  2011\n"
     ]
    }
   ],
   "source": [
    "print(\"gdppc Min Year = \", stage4['Year'].min(), \"max: \", stage4['Year'].max())\n",
    "print(\"CO2_l1 Min Year = \", stage1['Year'].min(), \"max: \", stage1['Year'].max())"
   ]
  },
  {
   "cell_type": "code",
   "execution_count": 48,
   "metadata": {},
   "outputs": [
    {
     "name": "stdout",
     "output_type": "stream",
     "text": [
      "52\n",
      "52\n"
     ]
    }
   ],
   "source": [
    "stage4_gp = stage4[stage4['Year'] < 2012]\n",
    "print(len(stage4_gp))\n",
    "print(len(stage1))"
   ]
  },
  {
   "cell_type": "code",
   "execution_count": 49,
   "metadata": {},
   "outputs": [
    {
     "data": {
      "text/plain": [
       "<matplotlib.collections.PathCollection at 0x230537ce520>"
      ]
     },
     "execution_count": 49,
     "metadata": {},
     "output_type": "execute_result"
    },
    {
     "data": {
      "image/png": "[encoded data removed]",
      "text/plain": [
       "<Figure size 432x288 with 1 Axes>"
      ]
     },
     "metadata": {
      "needs_background": "light"
     },
     "output_type": "display_data"
    }
   ],
   "source": [
    "%matplotlib inline\n",
    "import matplotlib.pyplot as plt\n",
    "\n",
    "fig, axis = plt.subplots()\n",
    "# Grid lines, Xticks, Xlabel, Ylabel\n",
    "\n",
    "axis.yaxis.grid(True)\n",
    "axis.set_title('Fig 6:Per Capita CO2 Emissions vs. GDP Per Capita)',fontsize=12)\n",
    "axis.set_xlabel(stage4_gp['IndicatorName'].iloc[0],fontsize=12)\n",
    "axis.set_ylabel(stage1['IndicatorName'].iloc[0],fontsize=12)\n",
    "\n",
    "X = stage4_gp['Value']\n",
    "Y = stage1['Value']\n",
    "\n",
    "axis.scatter(X, Y)"
   ]
  },
  {
   "cell_type": "code",
   "execution_count": 50,
   "metadata": {},
   "outputs": [
    {
     "data": {
      "text/plain": [
       "array([[ 1.        , -0.64969583],\n",
       "       [-0.64969583,  1.        ]])"
      ]
     },
     "execution_count": 50,
     "metadata": {},
     "output_type": "execute_result"
    }
   ],
   "source": [
    "np.corrcoef(stage4_gp['Value'],stage1['Value'])"
   ]
  },
  {
   "cell_type": "markdown",
   "metadata": {},
   "source": [
    "### Sumamry: CO2 Emissions from liquid fuel versus real income per capita\n",
    "1. The scatter plot shown is indicative that CO2 emission from liquid sources is negatively correlated with GDO per capita in Nigeria.\n",
    "2. The Correlation coefficient is negative ( 0.65)\n",
    "3. Implies an inverse correlationship between CO2 emission from liquid fuel consumption and GDP per capita.\n",
    "#### Thus, environmental degradation from liquid sources may rather translate to lower level of income in Nigeria."
   ]
  },
  {
   "cell_type": "markdown",
   "metadata": {},
   "source": [
    "### What is the relationship between GDP per capita and CO2 emissions from gaseous sources?"
   ]
  },
  {
   "cell_type": "code",
   "execution_count": 51,
   "metadata": {},
   "outputs": [
    {
     "data": {
      "text/plain": [
       "<matplotlib.collections.PathCollection at 0x23054689040>"
      ]
     },
     "execution_count": 51,
     "metadata": {},
     "output_type": "execute_result"
    },
    {
     "data": {
      "image/png": "[encoded data removed]",
      "text/plain": [
       "<Figure size 432x288 with 1 Axes>"
      ]
     },
     "metadata": {
      "needs_background": "light"
     },
     "output_type": "display_data"
    }
   ],
   "source": [
    "%matplotlib inline\n",
    "import matplotlib.pyplot as plt\n",
    "\n",
    "fig, axis = plt.subplots()\n",
    "# Grid lines, Xticks, Xlabel, Ylabel\n",
    "\n",
    "axis.yaxis.grid(True)\n",
    "axis.set_title('Fig 6:Gaseous CO2 Emissions vs. GDP Per Capita)',fontsize=12)\n",
    "axis.set_xlabel(stage4_gp['IndicatorName'].iloc[0],fontsize=12)\n",
    "axis.set_ylabel(stage2['IndicatorName'].iloc[0],fontsize=12)\n",
    "\n",
    "X = stage4_gp['Value']\n",
    "Y = stage2['Value']\n",
    "\n",
    "axis.scatter(X, Y)"
   ]
  },
  {
   "cell_type": "code",
   "execution_count": 52,
   "metadata": {},
   "outputs": [
    {
     "data": {
      "text/plain": [
       "array([[1.        , 0.00923276],\n",
       "       [0.00923276, 1.        ]])"
      ]
     },
     "execution_count": 52,
     "metadata": {},
     "output_type": "execute_result"
    }
   ],
   "source": [
    "np.corrcoef(stage4_gp['Value'],stage2['Value'])"
   ]
  },
  {
   "cell_type": "markdown",
   "metadata": {},
   "source": [
    "### Summary: CO2 Emissions from gaseous fuel versus real income per capita\n",
    "1. The scatter plot shown show no clear pattern of relationship between CO2 emission from gaseous sources GDP per capita in Nigeria.\n",
    "2. The Correlation coefficient is very low and positive (\n",
    "3. There is therefore no discernable relationship between both indicators."
   ]
  },
  {
   "cell_type": "markdown",
   "metadata": {},
   "source": [
    "### What is the relationship between GDP per capita and CO2 emissions Per Capita?"
   ]
  },
  {
   "cell_type": "code",
   "execution_count": 53,
   "metadata": {},
   "outputs": [
    {
     "data": {
      "text/plain": [
       "<matplotlib.collections.PathCollection at 0x230544032e0>"
      ]
     },
     "execution_count": 53,
     "metadata": {},
     "output_type": "execute_result"
    },
    {
     "data": {
      "image/png": "[encoded data removed]",
      "text/plain": [
       "<Figure size 432x288 with 1 Axes>"
      ]
     },
     "metadata": {
      "needs_background": "light"
     },
     "output_type": "display_data"
    }
   ],
   "source": [
    "%matplotlib inline\n",
    "import matplotlib.pyplot as plt\n",
    "\n",
    "fig, axis = plt.subplots()\n",
    "# Grid lines, Xticks, Xlabel, Ylabel\n",
    "\n",
    "axis.yaxis.grid(True)\n",
    "axis.set_title('Fig 6:Per capita CO2 Emissions vs. GDP Per Capita)',fontsize=12)\n",
    "axis.set_xlabel(stage4_gp['IndicatorName'].iloc[0],fontsize=12)\n",
    "axis.set_ylabel(stage5['IndicatorName'].iloc[0],fontsize=12)\n",
    "\n",
    "X = stage4_gp['Value']\n",
    "Y = stage5['Value']\n",
    "\n",
    "axis.scatter(X, Y)"
   ]
  },
  {
   "cell_type": "code",
   "execution_count": 54,
   "metadata": {},
   "outputs": [
    {
     "data": {
      "text/plain": [
       "array([[1.        , 0.46453835],\n",
       "       [0.46453835, 1.        ]])"
      ]
     },
     "execution_count": 54,
     "metadata": {},
     "output_type": "execute_result"
    }
   ],
   "source": [
    "np.corrcoef(stage4_gp['Value'],stage5['Value'])"
   ]
  },
  {
   "cell_type": "markdown",
   "metadata": {},
   "source": [
    "### Summary: CO2 Emissions per capita (in metric ton) versus real income per capita\n",
    "\n",
    "1. The scatter plot shown depicts some correlation between per capita CO2 emission and real GDP per capita in Nigeria.\n",
    "\n",
    "2. Finding show a positive correlation coefficient of 0.464.\n",
    "3. This implies that as environmental degradation through per capita CO2 emission indeed translated to income per capita in Nigeria.\n",
    "\n",
    "#### This alludes to a scenario such that environmental degrading elements of economic growth processes also raises income per capita (Nwaka et al 2020)."
   ]
  },
  {
   "cell_type": "code",
   "execution_count": null,
   "metadata": {},
   "outputs": [],
   "source": []
  }
 ],
 "metadata": {
  "kernelspec": {
   "display_name": "Python 3",
   "language": "python",
   "name": "python3"
  },
  "language_info": {
   "codemirror_mode": {
    "name": "ipython",
    "version": 3
   },
   "file_extension": ".py",
   "mimetype": "text/x-python",
   "name": "python",
   "nbconvert_exporter": "python",
   "pygments_lexer": "ipython3",
   "version": "3.8.3"
  }
 },
 "nbformat": 4,
 "nbformat_minor": 4
}
